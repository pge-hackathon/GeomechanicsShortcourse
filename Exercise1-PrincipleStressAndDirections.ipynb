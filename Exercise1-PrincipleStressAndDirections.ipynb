{
 "cells": [
  {
   "attachments": {},
   "cell_type": "markdown",
   "metadata": {},
   "source": [
    "Determine the principle stresses and directions for the following stress tensors:\n",
    "\n",
    " a. $$\\mathbf{S} = \\begin{bmatrix} 18 & 0 & 24 \\\\ 0 & -50 & 0 \\\\ 24 & 0 & 32 \\end{bmatrix}$$\n",
    " \n",
    " b. $$\\mathbf{S} = \\begin{bmatrix} 3 & -10 & 0 \\\\ -10 & 0 & 30 \\\\ 0 & 30 & -27 \\end{bmatrix}$$\n",
    " \n",
    " c. $$\\mathbf{S} = \\begin{bmatrix} 2 & -1 & 1 \\\\ -1 & 0 & 1 \\\\ 1 & 1 & -2 \\end{bmatrix}$$\n",
    " \n",
    " Work (a) by hand for practice.  You can use a computer to solve (b) and (c) if you wish."
   ]
  }
 ],
 "metadata": {
  "kernelspec": {
   "display_name": "Python 3 (ipykernel)",
   "language": "python",
   "name": "python3"
  },
  "language_info": {
   "codemirror_mode": {
    "name": "ipython",
    "version": 3
   },
   "file_extension": ".py",
   "mimetype": "text/x-python",
   "name": "python",
   "nbconvert_exporter": "python",
   "pygments_lexer": "ipython3",
   "version": "3.10.8"
  }
 },
 "nbformat": 4,
 "nbformat_minor": 1
}
